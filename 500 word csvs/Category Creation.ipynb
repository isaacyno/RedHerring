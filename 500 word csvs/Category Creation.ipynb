{
 "cells": [
  {
   "cell_type": "code",
   "execution_count": 3,
   "id": "4c9c5822",
   "metadata": {},
   "outputs": [
    {
     "name": "stderr",
     "output_type": "stream",
     "text": [
      "2023-03-15 09:47:56.308879: I tensorflow/core/platform/cpu_feature_guard.cc:193] This TensorFlow binary is optimized with oneAPI Deep Neural Network Library (oneDNN) to use the following CPU instructions in performance-critical operations:  SSE4.1 SSE4.2\n",
      "To enable them in other operations, rebuild TensorFlow with the appropriate compiler flags.\n"
     ]
    }
   ],
   "source": [
    "import spacy\n",
    "import pandas as pd\n",
    "import numpy as np"
   ]
  },
  {
   "cell_type": "code",
   "execution_count": 4,
   "id": "9a03b905",
   "metadata": {},
   "outputs": [],
   "source": [
    "import spacy\n",
    "\n",
    "nlp = spacy.load('en_core_web_lg')"
   ]
  },
  {
   "cell_type": "code",
   "execution_count": 1,
   "id": "4c3d83b4",
   "metadata": {},
   "outputs": [],
   "source": [
    "# Code for similarity score adjacency matrix and similar word matrix creation"
   ]
  },
  {
   "cell_type": "code",
   "execution_count": null,
   "id": "8dfc86ab",
   "metadata": {},
   "outputs": [],
   "source": [
    "df = pd.read_csv(\"words.csv\")\n",
    "n = 2000\n",
    "df2 = df.sample(n)\n",
    "df2.index = range(n)\n",
    "dict2 = df2.to_dict('dict')\n",
    "df2"
   ]
  },
  {
   "cell_type": "code",
   "execution_count": null,
   "id": "3e24cbba",
   "metadata": {},
   "outputs": [],
   "source": [
    "#DO NOT RUN ON JUPYTER\n",
    "nlp = spacy.load('en_core_web_lg')\n",
    "\n",
    "A = np.empty((n, n))\n",
    "\n",
    "i = 0\n",
    "j = 0\n",
    "for word1 in df2[\"word\"]:\n",
    "    j = 0\n",
    "    for word2 in df2[\"word\"]:\n",
    "        wordComp = word1 + \" \" + word2\n",
    "        tokens = nlp(wordComp)\n",
    "        token1, token2 = tokens[0], tokens[1]\n",
    "        A[i,j] = token1.similarity(token2)\n",
    "        j += 1\n",
    "    i += 1\n",
    "A"
   ]
  },
  {
   "cell_type": "code",
   "execution_count": null,
   "id": "ee18a3e3",
   "metadata": {},
   "outputs": [],
   "source": [
    "print(A)\n",
    "cat_size = 10\n",
    "highest_indices = []\n",
    "\n",
    "# loop over each row in the array\n",
    "for row in A:\n",
    "\n",
    "    # get the indices of the highest 10 values in the row\n",
    "    indices = np.argpartition(row, -1*cat_size)[-1*cat_size:]\n",
    "\n",
    "    # append the indices to the list\n",
    "    highest_indices.append(indices)"
   ]
  },
  {
   "cell_type": "code",
   "execution_count": null,
   "id": "869939d9",
   "metadata": {},
   "outputs": [],
   "source": [
    "catagory_array = np.empty((n, cat_size), dtype=object)\n",
    "print(len(catagory_array))\n",
    "for i in range(n):\n",
    "    for j in range(cat_size):\n",
    "        catagory_array[i][j] = df2[\"word\"][highest_indices[i][j]]\n",
    "print(df2[\"word\"][243])\n",
    "catagory_array[243]"
   ]
  },
  {
   "cell_type": "code",
   "execution_count": 2,
   "id": "8c356284",
   "metadata": {},
   "outputs": [],
   "source": [
    "# Code for category formation"
   ]
  },
  {
   "cell_type": "code",
   "execution_count": 16,
   "id": "ec591a20",
   "metadata": {},
   "outputs": [
    {
     "name": "stdout",
     "output_type": "stream",
     "text": [
      "[42 'survivor' 'prisoner' 'defend' 'eliminate' 'stop' 'confront' 'escape'\n",
      " 'expose' 'emerge' 'return']\n"
     ]
    }
   ],
   "source": [
    "word_buckets = pd.read_csv(\"categories.csv\")\n",
    "similar_adj = pd.read_csv(\"adjacency.csv\")\n",
    "word_array = word_buckets.to_numpy()\n",
    "adj_array = similar_adj.to_numpy()\n",
    "print(word_array[42])"
   ]
  },
  {
   "cell_type": "code",
   "execution_count": null,
   "id": "1e068e96",
   "metadata": {},
   "outputs": [],
   "source": []
  }
 ],
 "metadata": {
  "kernelspec": {
   "display_name": "Python [conda env:PIC16B] *",
   "language": "python",
   "name": "conda-env-PIC16B-py"
  },
  "language_info": {
   "codemirror_mode": {
    "name": "ipython",
    "version": 3
   },
   "file_extension": ".py",
   "mimetype": "text/x-python",
   "name": "python",
   "nbconvert_exporter": "python",
   "pygments_lexer": "ipython3",
   "version": "3.8.15"
  }
 },
 "nbformat": 4,
 "nbformat_minor": 5
}
